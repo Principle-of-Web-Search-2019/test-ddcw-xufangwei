{
 "cells": [
  {
   "cell_type": "code",
   "execution_count": 2,
   "outputs": [
    {
     "name": "stdout",
     "text": [
      "描述\n\n\n\n\n\n站内搜索：\n\n\r\nfunction checksearchu4(type){\r\n        var keyword = document.getElementById('_w_v_l_s_n_s_kword_show_idu4').value;\r\n        if(keyword==null||keyword==\"\"){\r\n            alert(\"请输入查询内容\");\r\n            return false;\r\n        }\r\n        if(window.toFF==1)\r\n        {\r\n            document.getElementById(\"_w_v_l_s_n_s_kword_show_idu4\").value = Simplized(keyword );\r\n        }else\r\n        {\r\n            document.getElementById(\"_w_v_l_s_n_s_kword_show_idu4\").value = keyword;            \r\n        }\r\n        var  base64 = new Base64();\r\n        document.getElementById(\"_w_v_l_s_n_s_kword_idu4\").value = base64.encode(document.getElementById(\"_w_v_l_s_n_s_kword_show_idu4\").value);\r\n        new VsbFormFunc().disableAutoEnable(document.getElementById(\"_w_v_l_s_n_s_kword_show_idu4\"));\r\n        return true;\r\n    } \r\n\n\n\n\n\n\n\n\n\n\r\n                                            全部\r\n                    \n\r\n                        标题\r\n                    \n\r\n                                             正文\r\n                    \n\r\n                        标签\r\n                    \n\r\n                                        摘要\r\n                    \n\r\n                                        作者\r\n                    \n\r\n                                        来源\r\n                    \n\r\n                        栏目\r\n                    \n\n\n\r\n                        全部时间\r\n                    \n2019\n2018\n2017\n2016\n2015\n2014\n2013\n2012\n2011\n2010\n2009\n2008\n2007\n2006\n2005\n\n\n\n\n\n\n\n\n\n\n描述\n\n管理应用 快速导航\n\n南疆发展研究院\n生物研究发展中心\n统一身份认证系统\n\n\n视频点播\n数字图书馆\n阳光服务平台\n\n\n邮件系统\n领导信箱\n智慧校园\n\n\n\n专题专栏\n\n\n\n\n描述新疆理工学院Copyright 2018　备案号：新ICP备19000466号-1 新公网安备 65292202000102号联系电话：0997-2205177　　招生热线：0997-2205566信息中心：0997-2205050　　邮政编码：843100地　　址：新疆阿克苏地区温宿县学府路1号网　　址：www.xjit.edu.cn关注我们　微信：xjistedu微博：xjistedu网站导航网站首页学院概况机构设置招生就业人才招聘科学研究党建专栏校园生活信息服务\n"
     ],
     "output_type": "stream"
    }
   ],
   "source": [
    "import requests\n",
    "from bs4 import BeautifulSoup as bs\n",
    "\n",
    "r = requests.get(\"http://www.xjistedu.cn/\") #get\"url\"#\n",
    "r.encoding = r.apparent_encoding\n",
    "\n",
    "soup = bs(r.text)\n",
    "for trr in soup.findAll('div',{'class','wrapper'}):\n",
    "    print (\"描述\" +trr.text)\n",
    "\n",
    "\n"
   ],
   "metadata": {
    "collapsed": false,
    "pycharm": {
     "name": "#%%\n",
     "is_executing": false
    }
   }
  }
 ],
 "metadata": {
  "kernelspec": {
   "display_name": "Python 3",
   "language": "python",
   "name": "python3"
  },
  "language_info": {
   "codemirror_mode": {
    "name": "ipython",
    "version": 2
   },
   "file_extension": ".py",
   "mimetype": "text/x-python",
   "name": "python",
   "nbconvert_exporter": "python",
   "pygments_lexer": "ipython2",
   "version": "2.7.6"
  },
  "pycharm": {
   "stem_cell": {
    "cell_type": "raw",
    "source": [],
    "metadata": {
     "collapsed": false
    }
   }
  }
 },
 "nbformat": 4,
 "nbformat_minor": 0
}